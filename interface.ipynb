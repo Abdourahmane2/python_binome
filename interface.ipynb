{
 "cells": [
  {
   "cell_type": "code",
   "execution_count": 13,
   "metadata": {},
   "outputs": [],
   "source": [
    "import ipywidgets as widgets  \n",
    "from Corpus import SearchEngine , Corpus\n",
    "import pickle\n",
    "from IPython.display import display"
   ]
  },
  {
   "cell_type": "code",
   "execution_count": 14,
   "metadata": {},
   "outputs": [
    {
     "data": {
      "application/vnd.jupyter.widget-view+json": {
       "model_id": "58b528404a3f4ae294d4463f120d52d9",
       "version_major": 2,
       "version_minor": 0
      },
      "text/plain": [
       "VBox(children=(HTML(value=\"<h1 style='text-align: center; color: navy;'>Moteur de recherche</h1>\"), Text(value…"
      ]
     },
     "metadata": {},
     "output_type": "display_data"
    },
    {
     "data": {
      "application/vnd.jupyter.widget-view+json": {
       "model_id": "054f87a48a3c43fa8a58fd2f46857618",
       "version_major": 2,
       "version_minor": 0
      },
      "text/plain": [
       "Output()"
      ]
     },
     "metadata": {},
     "output_type": "display_data"
    }
   ],
   "source": [
    "import pickle\n",
    "import pandas as pd\n",
    "from IPython.display import display, HTML\n",
    "import ipywidgets as widgets\n",
    "\n",
    "# Charger le corpus\n",
    "with open(\"corpus.pkl\", \"rb\") as f:\n",
    "    loaded_corpus = pickle.load(f)\n",
    "\n",
    "# Titre de l'interface\n",
    "h1 = widgets.HTML(value=\"<h1 style='text-align: center; color: navy;'>Moteur de recherche</h1>\")\n",
    "\n",
    "# Barre de recherche et paramètres\n",
    "text = widgets.Text(description=\"Mots clés:\", placeholder=\"Entrez des mots clés ici...\")\n",
    "int_slider = widgets.IntSlider(description=\"Articles:\", min=1, max=20, value=5)\n",
    "valider = widgets.Button(description=\"Rechercher\")\n",
    "valider.style.button_color = 'lightblue'\n",
    "\n",
    "# Alignement au centre\n",
    "vbox = widgets.VBox([h1, text, int_slider, valider])\n",
    "vbox.layout = widgets.Layout(align_items='center', justify_content='center')\n",
    "\n",
    "# Zone d'affichage des résultats\n",
    "output = widgets.Output()\n",
    "\n",
    "# Fonction de recherche\n",
    "def recherche(b):\n",
    "    with output:\n",
    "        output.clear_output()\n",
    "        search_engine = SearchEngine(loaded_corpus)\n",
    "        mots_cles = text.value.strip()  # Supprimer les espaces en trop\n",
    "        if not mots_cles:\n",
    "            print(\"Veuillez entrer au moins un mot clé pour la recherche.\")\n",
    "            return\n",
    "        try:\n",
    "            result = search_engine.search(mots_cles, int_slider.value)\n",
    "            if isinstance(result, str):\n",
    "                print(result)  # Afficher un message si aucun résultat\n",
    "            else:\n",
    "                # Afficher un DataFrame avec des liens cliquables\n",
    "                result['lien'] = result['lien'].apply(\n",
    "                    lambda x: f'<a href=\"{x}\">Lire</a>'\n",
    "                )\n",
    "                display(HTML(result.to_html(escape=False, index=False)))\n",
    "        except Exception as e:\n",
    "            print(f\"Erreur lors de la recherche : {e}\")\n",
    "\n",
    "# Lier le bouton à la fonction\n",
    "valider.on_click(recherche)\n",
    "\n",
    "# Affichage de l'interface\n",
    "display(vbox, output)\n",
    "\n"
   ]
  }
 ],
 "metadata": {
  "kernelspec": {
   "display_name": "base",
   "language": "python",
   "name": "python3"
  },
  "language_info": {
   "codemirror_mode": {
    "name": "ipython",
    "version": 3
   },
   "file_extension": ".py",
   "mimetype": "text/x-python",
   "name": "python",
   "nbconvert_exporter": "python",
   "pygments_lexer": "ipython3",
   "version": "3.11.5"
  }
 },
 "nbformat": 4,
 "nbformat_minor": 2
}
