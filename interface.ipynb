{
 "cells": [
  {
   "cell_type": "code",
   "execution_count": null,
   "metadata": {},
   "outputs": [],
   "source": [
    "import ipywidgets as widgets \n",
    "from Corpus import SearchEngine , Corpus\n",
    "import pickle"
   ]
  },
  {
   "cell_type": "code",
   "execution_count": null,
   "metadata": {},
   "outputs": [
    {
     "data": {
      "application/vnd.jupyter.widget-view+json": {
       "model_id": "f171ecf0afef498384e9ec3e1ccb499a",
       "version_major": 2,
       "version_minor": 0
      },
      "text/plain": [
       "VBox(children=(HTML(value=\"<h1>Recherche d'articles</h1>\"), Text(value='', description='Mots clefs:'), IntSlid…"
      ]
     },
     "metadata": {},
     "output_type": "display_data"
    },
    {
     "data": {
      "application/vnd.jupyter.widget-view+json": {
       "model_id": "e45c13e86750484ea45e09e2b7819d1b",
       "version_major": 2,
       "version_minor": 0
      },
      "text/plain": [
       "Output()"
      ]
     },
     "metadata": {},
     "output_type": "display_data"
    }
   ],
   "source": [
    "import ipywidgets as widgets\n",
    "from IPython.display import display\n",
    "import pickle\n",
    "\n",
    "# Charger le corpus\n",
    "with open(\"corpus.pkl\", \"rb\") as f:\n",
    "    loaded_corpus = pickle.load(f)\n",
    "\n",
    "# Titre de l'interface\n",
    "h1 = widgets.HTML(value=\"<h1>Recherche d'articles</h1>\")\n",
    "\n",
    "# Barre de recherche et paramètres\n",
    "text = widgets.Text(description=\"Mots clefs:\")\n",
    "int_slider = widgets.IntSlider(description=\"Nombre d'articles:\", min=1, max=20, value=5)\n",
    "valider = widgets.Button(description=\"Rechercher\")\n",
    "\n",
    "# Bouton Valider en bleu\n",
    "valider.style.button_color = 'lightblue'\n",
    "\n",
    "# Alignement au centre\n",
    "vbox = widgets.VBox([h1, text, int_slider, valider])\n",
    "vbox.layout.align_items = 'center'\n",
    "\n",
    "# Zone d'affichage des résultats\n",
    "output = widgets.Output()\n",
    "\n",
    "# Fonction de recherche\n",
    "def on_button_clicked(b):\n",
    "    with output:\n",
    "        output.clear_output()\n",
    "        search_engine = SearchEngine(loaded_corpus)\n",
    "        mots_cles = text.value.strip()  \n",
    "        if not mots_cles:\n",
    "            print(\"Veuillez entrer au moins un mot clé pour la recherche.\")\n",
    "            return\n",
    "        result = search_engine.search(mots_cles, int_slider.value)\n",
    "        if isinstance(result, str):\n",
    "            print(result)  \n",
    "        else:\n",
    "            display(result)  \n",
    "\n",
    "# Lier le bouton à la fonction\n",
    "valider.on_click(on_button_clicked)\n",
    "\n",
    "# Affichage de l'interface\n",
    "display(vbox, output)\n"
   ]
  }
 ],
 "metadata": {
  "kernelspec": {
   "display_name": "base",
   "language": "python",
   "name": "python3"
  },
  "language_info": {
   "codemirror_mode": {
    "name": "ipython",
    "version": 3
   },
   "file_extension": ".py",
   "mimetype": "text/x-python",
   "name": "python",
   "nbconvert_exporter": "python",
   "pygments_lexer": "ipython3",
   "version": "3.11.5"
  }
 },
 "nbformat": 4,
 "nbformat_minor": 2
}
